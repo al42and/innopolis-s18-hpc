{
 "cells": [
  {
   "cell_type": "markdown",
   "metadata": {},
   "source": [
    "# Lab 1. Floating point"
   ]
  },
  {
   "cell_type": "markdown",
   "metadata": {},
   "source": [
    "High Performance Computing, Innopolis University, Spring 2018"
   ]
  },
  {
   "cell_type": "code",
   "execution_count": 1,
   "metadata": {},
   "outputs": [
    {
     "data": {
      "text/html": [
       "<script>\n",
       "code_show=true; \n",
       "function code_toggle() {\n",
       "    if (code_show){\n",
       "        $('div.cell.code_cell.rendered.selected div.input').hide();\n",
       "    } else {\n",
       "        $('div.cell.code_cell.rendered.selected div.input').show();\n",
       "    }\n",
       "    code_show = !code_show\n",
       "} \n",
       "$( document ).ready(code_toggle);\n",
       "</script>\n",
       "This cell contains some helper code, click <a href=\"javascript:code_toggle()\">here</a> to show/hide it."
      ],
      "text/plain": [
       "<IPython.core.display.HTML object>"
      ]
     },
     "metadata": {},
     "output_type": "display_data"
    }
   ],
   "source": [
    "# Import common modules and set up cute plots\n",
    "import math\n",
    "import numpy as np\n",
    "from typing import List, Iterable\n",
    "from IPython.core.display import HTML, display\n",
    "import matplotlib.pyplot as plt\n",
    "\n",
    "%matplotlib inline\n",
    "plt.rc('figure', figsize=(10, 6))\n",
    "\n",
    "# Set up snippet to hide some helper code\n",
    "\n",
    "# Taken from https://stackoverflow.com/questions/31517194/how-to-hide-one-specific-cell-input-or-output-in-ipython-notebook\n",
    "hide_code_script = HTML('''<script>\n",
    "code_show=true; \n",
    "function code_toggle() {\n",
    "    if (code_show){\n",
    "        $('div.cell.code_cell.rendered.selected div.input').hide();\n",
    "    } else {\n",
    "        $('div.cell.code_cell.rendered.selected div.input').show();\n",
    "    }\n",
    "    code_show = !code_show\n",
    "} \n",
    "$( document ).ready(code_toggle);\n",
    "</script>\n",
    "This cell contains some helper code, click <a href=\"javascript:code_toggle()\">here</a> to show/hide it.''')\n",
    "hide_cell = lambda: display(hide_code_script)\n",
    "\n",
    "hide_cell()"
   ]
  },
  {
   "cell_type": "markdown",
   "metadata": {},
   "source": [
    "## Floating point is suffering"
   ]
  },
  {
   "cell_type": "code",
   "execution_count": 2,
   "metadata": {},
   "outputs": [
    {
     "data": {
      "text/plain": [
       "True"
      ]
     },
     "execution_count": 2,
     "metadata": {},
     "output_type": "execute_result"
    }
   ],
   "source": [
    "1 + 2 == 3"
   ]
  },
  {
   "cell_type": "code",
   "execution_count": 3,
   "metadata": {},
   "outputs": [
    {
     "data": {
      "text/plain": [
       "False"
      ]
     },
     "execution_count": 3,
     "metadata": {},
     "output_type": "execute_result"
    }
   ],
   "source": [
    "0.1 + 0.2 == 0.3"
   ]
  },
  {
   "cell_type": "markdown",
   "metadata": {},
   "source": [
    "## Limited precision"
   ]
  },
  {
   "cell_type": "markdown",
   "metadata": {},
   "source": [
    "In practice, floating point has limited precision: ~7 significant decimal digits for `np.float32` (`float` in C/C++) and ~16 significant decimal digits for `np.float64` (`double` in C/C++)."
   ]
  },
  {
   "cell_type": "code",
   "execution_count": 4,
   "metadata": {},
   "outputs": [
    {
     "data": {
      "text/plain": [
       "False"
      ]
     },
     "execution_count": 4,
     "metadata": {},
     "output_type": "execute_result"
    }
   ],
   "source": [
    "np.float32(0.12345670) == np.float32(0.12345671)"
   ]
  },
  {
   "cell_type": "code",
   "execution_count": 5,
   "metadata": {},
   "outputs": [
    {
     "data": {
      "text/plain": [
       "True"
      ]
     },
     "execution_count": 5,
     "metadata": {},
     "output_type": "execute_result"
    }
   ],
   "source": [
    "np.float32(0.123456780) == np.float32(0.123456781) #!"
   ]
  },
  {
   "cell_type": "code",
   "execution_count": 6,
   "metadata": {},
   "outputs": [
    {
     "data": {
      "text/plain": [
       "True"
      ]
     },
     "execution_count": 6,
     "metadata": {},
     "output_type": "execute_result"
    }
   ],
   "source": [
    "np.float32(12345.6780) == np.float32(12345.6781)"
   ]
  },
  {
   "cell_type": "code",
   "execution_count": 7,
   "metadata": {},
   "outputs": [
    {
     "data": {
      "text/plain": [
       "False"
      ]
     },
     "execution_count": 7,
     "metadata": {},
     "output_type": "execute_result"
    }
   ],
   "source": [
    "np.float64(0.123456780) == np.float64(0.123456781)"
   ]
  },
  {
   "cell_type": "markdown",
   "metadata": {},
   "source": [
    "## Internal representation"
   ]
  },
  {
   "cell_type": "code",
   "execution_count": 8,
   "metadata": {},
   "outputs": [
    {
     "data": {
      "text/html": [
       "<script>\n",
       "code_show=true; \n",
       "function code_toggle() {\n",
       "    if (code_show){\n",
       "        $('div.cell.code_cell.rendered.selected div.input').hide();\n",
       "    } else {\n",
       "        $('div.cell.code_cell.rendered.selected div.input').show();\n",
       "    }\n",
       "    code_show = !code_show\n",
       "} \n",
       "$( document ).ready(code_toggle);\n",
       "</script>\n",
       "This cell contains some helper code, click <a href=\"javascript:code_toggle()\">here</a> to show/hide it."
      ],
      "text/plain": [
       "<IPython.core.display.HTML object>"
      ]
     },
     "metadata": {},
     "output_type": "display_data"
    }
   ],
   "source": [
    "# Helper functions\n",
    "def float32_to_bin(x: float) -> str:\n",
    "    '''Return binary representation of the float (treated as a single-precision number)'''\n",
    "    # The `np.float32(x).view(np.uint32).item()` part is akin to `* ((uint32_t*) &x)` in C.\n",
    "    return '0b{0:032b}'.format(np.float32(x).view(np.uint32).item())\n",
    "\n",
    "def pretty_print_float(x: float):\n",
    "    '''Return Jupyter object for pretty-printing binary representation of floats'''\n",
    "    exp_size = 8  # number of bits in exponent of float32, from IEEE 754 standard\n",
    "    def _colorize(s: str, color: str) -> str:\n",
    "        return '<span style=\"font-family:\\'Courier New\\';font-weight:bold;color:{1}\">{0}</span>'.format(s, color)\n",
    "    \n",
    "    bin_repr = float32_to_bin(x)\n",
    "    prefix, sign, exponent, mantissa = bin_repr[0:2], bin_repr[2:3], bin_repr[3:3+exp_size], bin_repr[3+exp_size:]\n",
    "    return HTML(\n",
    "        _colorize(prefix, 'black') +\n",
    "        _colorize(sign, 'blue') + \n",
    "        _colorize(exponent, 'red') + \n",
    "        _colorize(mantissa, 'green')\n",
    "    )\n",
    "hide_cell()"
   ]
  },
  {
   "cell_type": "markdown",
   "metadata": {},
   "source": [
    "The function `pretty_print_float` above prints binary representation of \n",
    "[IEEE-754](https://en.wikipedia.org/wiki/IEEE_754) 32-bit floating point number.\n",
    "The sign bit is printed in blue, the exponent in red, and mantissa in green."
   ]
  },
  {
   "cell_type": "code",
   "execution_count": 9,
   "metadata": {},
   "outputs": [
    {
     "data": {
      "text/html": [
       "<span style=\"font-family:'Courier New';font-weight:bold;color:black\">0b</span><span style=\"font-family:'Courier New';font-weight:bold;color:blue\">0</span><span style=\"font-family:'Courier New';font-weight:bold;color:red\">10000001</span><span style=\"font-family:'Courier New';font-weight:bold;color:green\">01100000000000000000000</span>"
      ],
      "text/plain": [
       "<IPython.core.display.HTML object>"
      ]
     },
     "execution_count": 9,
     "metadata": {},
     "output_type": "execute_result"
    }
   ],
   "source": [
    "pretty_print_float(5.5)"
   ]
  },
  {
   "cell_type": "markdown",
   "metadata": {},
   "source": [
    "Why?\n",
    "\n",
    "- 5.5 > 0, so the first bit is **`0b0`**\n",
    "- Now let's convert it to binary form: `5.5 = 4 + 1 + 0.5 = 2**2 + 2**0 + 2**-1 = 0b101.1`\n",
    "- Normalize it: `0b101.1 = 0b1.011 * 2**2`\n",
    "- Raw exponent is 2, but we must add bias, which for `float32` is 127, so exponent is `127 + 2 = 129 = `**`0b10000001`**\n",
    "- Mantissa is **`0b011`**. We can add zeroes to the end of it, similar to how `0.1 == 0.10000` in decimal."
   ]
  },
  {
   "cell_type": "code",
   "execution_count": 10,
   "metadata": {},
   "outputs": [
    {
     "data": {
      "text/html": [
       "<span style=\"font-family:'Courier New';font-weight:bold;color:black\">0b</span><span style=\"font-family:'Courier New';font-weight:bold;color:blue\">1</span><span style=\"font-family:'Courier New';font-weight:bold;color:red\">10000001</span><span style=\"font-family:'Courier New';font-weight:bold;color:green\">01100000000000000000000</span>"
      ],
      "text/plain": [
       "<IPython.core.display.HTML object>"
      ]
     },
     "execution_count": 10,
     "metadata": {},
     "output_type": "execute_result"
    }
   ],
   "source": [
    "pretty_print_float(-5.5)  # Sign bit changes here"
   ]
  },
  {
   "cell_type": "code",
   "execution_count": 11,
   "metadata": {},
   "outputs": [
    {
     "data": {
      "text/html": [
       "<span style=\"font-family:'Courier New';font-weight:bold;color:black\">0b</span><span style=\"font-family:'Courier New';font-weight:bold;color:blue\">0</span><span style=\"font-family:'Courier New';font-weight:bold;color:red\">10000010</span><span style=\"font-family:'Courier New';font-weight:bold;color:green\">01100000000000000000000</span>"
      ],
      "text/plain": [
       "<IPython.core.display.HTML object>"
      ]
     },
     "execution_count": 11,
     "metadata": {},
     "output_type": "execute_result"
    }
   ],
   "source": [
    "pretty_print_float(5.5*2)  # Exponent changes here"
   ]
  },
  {
   "cell_type": "code",
   "execution_count": 12,
   "metadata": {},
   "outputs": [
    {
     "data": {
      "text/html": [
       "<span style=\"font-family:'Courier New';font-weight:bold;color:black\">0b</span><span style=\"font-family:'Courier New';font-weight:bold;color:blue\">0</span><span style=\"font-family:'Courier New';font-weight:bold;color:red\">10000001</span><span style=\"font-family:'Courier New';font-weight:bold;color:green\">01010000000000000000000</span>"
      ],
      "text/plain": [
       "<IPython.core.display.HTML object>"
      ]
     },
     "execution_count": 12,
     "metadata": {},
     "output_type": "execute_result"
    }
   ],
   "source": [
    "pretty_print_float(5.25)  # Mantissa changes here (5.5 = 0b101.10; 5.25 = 0b101.01)"
   ]
  },
  {
   "cell_type": "code",
   "execution_count": 13,
   "metadata": {},
   "outputs": [
    {
     "data": {
      "text/html": [
       "<span style=\"font-family:'Courier New';font-weight:bold;color:black\">0b</span><span style=\"font-family:'Courier New';font-weight:bold;color:blue\">0</span><span style=\"font-family:'Courier New';font-weight:bold;color:red\">01111011</span><span style=\"font-family:'Courier New';font-weight:bold;color:green\">01011100001010001111011</span>"
      ],
      "text/plain": [
       "<IPython.core.display.HTML object>"
      ]
     },
     "execution_count": 13,
     "metadata": {},
     "output_type": "execute_result"
    }
   ],
   "source": [
    "pretty_print_float(0.085)  # Detailed explanation at http://class.ece.iastate.edu/arun/CprE281_F05/ieee754/ie4.html"
   ]
  },
  {
   "cell_type": "markdown",
   "metadata": {},
   "source": [
    "If you want, you can compare the binary representations of 0.12345670 and 0.12345671, 0.123456780 and 0.12345678 that we compared in previous section."
   ]
  },
  {
   "cell_type": "markdown",
   "metadata": {},
   "source": [
    "## Summation"
   ]
  },
  {
   "cell_type": "markdown",
   "metadata": {},
   "source": [
    "### Error accumulation"
   ]
  },
  {
   "cell_type": "markdown",
   "metadata": {},
   "source": [
    "As we have seen earlier, `0.1 + 0.2 ≠ 0.3`.\n",
    "\n",
    "When adding many numbers together, rounding errors accumulate:"
   ]
  },
  {
   "cell_type": "code",
   "execution_count": 14,
   "metadata": {},
   "outputs": [
    {
     "name": "stdout",
     "output_type": "stream",
     "text": [
      "[0.1, 0.1, 0.1, 0.1, 0.1, 0.1, 0.1, 0.1, 0.1, 0.1]\n"
     ]
    }
   ],
   "source": [
    "a = [.1] * 10\n",
    "print(a)"
   ]
  },
  {
   "cell_type": "code",
   "execution_count": 15,
   "metadata": {},
   "outputs": [
    {
     "name": "stdout",
     "output_type": "stream",
     "text": [
      "1.0\n"
     ]
    }
   ],
   "source": [
    "print(0.1*10)"
   ]
  },
  {
   "cell_type": "code",
   "execution_count": 16,
   "metadata": {},
   "outputs": [
    {
     "data": {
      "text/plain": [
       "0.9999999999999999"
      ]
     },
     "execution_count": 16,
     "metadata": {},
     "output_type": "execute_result"
    }
   ],
   "source": [
    "sum(a)"
   ]
  },
  {
   "cell_type": "markdown",
   "metadata": {},
   "source": [
    "In such cases, we have to use numerically-stable summation.\n",
    "Here is the one Python has in its standard library:"
   ]
  },
  {
   "cell_type": "code",
   "execution_count": 17,
   "metadata": {},
   "outputs": [
    {
     "data": {
      "text/plain": [
       "1.0"
      ]
     },
     "execution_count": 17,
     "metadata": {},
     "output_type": "execute_result"
    }
   ],
   "source": [
    "math.fsum(a)"
   ]
  },
  {
   "cell_type": "markdown",
   "metadata": {},
   "source": [
    "We won't delve deep into `fsum` algorithm, but look more closely at a simpler example: \n",
    "[Kahan summation algorithm](https://en.wikipedia.org/wiki/Kahan_summation_algorithm)"
   ]
  },
  {
   "cell_type": "code",
   "execution_count": 18,
   "metadata": {},
   "outputs": [],
   "source": [
    "def kahan(x: Iterable[float]) -> float:\n",
    "    '''Compute the Kahan sum of x'''\n",
    "    acc = 0.0  # Current accumulator\n",
    "    c = 0.0  # Running compensation for lost low-order bits\n",
    "    for x_i in x:\n",
    "        y = x_i - c\n",
    "        s = acc + y\n",
    "        c = (s - acc) - y  # Algebraically, t - s - y = s + y - s - y = 0. But we have limited precision.\n",
    "        acc = s\n",
    "    return acc"
   ]
  },
  {
   "cell_type": "code",
   "execution_count": 19,
   "metadata": {},
   "outputs": [
    {
     "data": {
      "text/plain": [
       "1.0"
      ]
     },
     "execution_count": 19,
     "metadata": {},
     "output_type": "execute_result"
    }
   ],
   "source": [
    "kahan(a)"
   ]
  },
  {
   "cell_type": "markdown",
   "metadata": {},
   "source": [
    "Let's look how the compensation terms behave. We will use larger array for clarity:"
   ]
  },
  {
   "cell_type": "code",
   "execution_count": 20,
   "metadata": {},
   "outputs": [
    {
     "data": {
      "text/html": [
       "<script>\n",
       "code_show=true; \n",
       "function code_toggle() {\n",
       "    if (code_show){\n",
       "        $('div.cell.code_cell.rendered.selected div.input').hide();\n",
       "    } else {\n",
       "        $('div.cell.code_cell.rendered.selected div.input').show();\n",
       "    }\n",
       "    code_show = !code_show\n",
       "} \n",
       "$( document ).ready(code_toggle);\n",
       "</script>\n",
       "This cell contains some helper code, click <a href=\"javascript:code_toggle()\">here</a> to show/hide it."
      ],
      "text/plain": [
       "<IPython.core.display.HTML object>"
      ]
     },
     "metadata": {},
     "output_type": "display_data"
    },
    {
     "name": "stdout",
     "output_type": "stream",
     "text": [
      "Array [0.1] * 100\n",
      "Kahan sum = 10.000000000000000, naïve sum = 9.999999999999980\n"
     ]
    },
    {
     "data": {
      "image/png": "[encoded data removed]",
      "text/plain": [
       "<matplotlib.figure.Figure at 0x7f3ee0fa9ba8>"
      ]
     },
     "metadata": {},
     "output_type": "display_data"
    }
   ],
   "source": [
    "def vis_kahan1():\n",
    "    '''Compute the Kahan sum of x'''\n",
    "    x = np.ones((100), dtype=np.float64) * 0.1\n",
    "    acc = 0.0\n",
    "    c = np.zeros_like(x)\n",
    "    y = np.zeros_like(x)\n",
    "    s = np.zeros_like(x)\n",
    "    for i, x_i in enumerate(x):\n",
    "        y[i] = x_i - c[i-1]  # If i==0, c[-1] is the last element, which is still zero\n",
    "        s[i] = acc + y[i]  # See above\n",
    "        c[i] = (s[i] - acc) - y[i]\n",
    "        acc = s[i]\n",
    "    \n",
    "    print('Array [0.1] * 100')\n",
    "    print('Kahan sum = {:.15f}, naïve sum = {:.15f}'.format(acc, sum(x)))\n",
    "    plt.figure()\n",
    "    plt.plot(c)\n",
    "    plt.xlabel('Index i')\n",
    "    plt.ylabel('Compensator value c[i]')    \n",
    "    \n",
    "hide_cell()\n",
    "vis_kahan1()"
   ]
  },
  {
   "cell_type": "markdown",
   "metadata": {},
   "source": [
    "### Normalization"
   ]
  },
  {
   "cell_type": "markdown",
   "metadata": {},
   "source": [
    "When adding two numbers, they must be normalized (converted to have same exponent).\n",
    "This leads to the loss of precision when adding numbers that differ in magnitude.\n",
    "Let's look at the example below:"
   ]
  },
  {
   "cell_type": "code",
   "execution_count": 21,
   "metadata": {},
   "outputs": [
    {
     "name": "stdout",
     "output_type": "stream",
     "text": [
      "[ 1.e+08  1.e+00 -1.e+08]\n"
     ]
    }
   ],
   "source": [
    "a = np.array([1e8, 1, -1e8], dtype=np.float32)  # Array of three floats\n",
    "print(a)"
   ]
  },
  {
   "cell_type": "code",
   "execution_count": 22,
   "metadata": {},
   "outputs": [
    {
     "data": {
      "text/plain": [
       "0.0"
      ]
     },
     "execution_count": 22,
     "metadata": {},
     "output_type": "execute_result"
    }
   ],
   "source": [
    "a.sum()  # Summation is performed using float32's"
   ]
  },
  {
   "cell_type": "code",
   "execution_count": 23,
   "metadata": {},
   "outputs": [
    {
     "data": {
      "text/plain": [
       "1.0"
      ]
     },
     "execution_count": 23,
     "metadata": {},
     "output_type": "execute_result"
    }
   ],
   "source": [
    "a.sum(dtype=np.float64)  # Do the summation using float64 for intermediate values"
   ]
  },
  {
   "cell_type": "code",
   "execution_count": 24,
   "metadata": {},
   "outputs": [
    {
     "data": {
      "text/plain": [
       "1.0"
      ]
     },
     "execution_count": 24,
     "metadata": {},
     "output_type": "execute_result"
    }
   ],
   "source": [
    "sum(a)  # Values are converted into Python internal float type (that is actually float64), so the result is nice again"
   ]
  },
  {
   "cell_type": "markdown",
   "metadata": {},
   "source": [
    "The previous example was working fine if we increase precision from single (32 bit) to double (64 bit).\n",
    "\n",
    "But if the difference between numbers is even greater, this won't help:"
   ]
  },
  {
   "cell_type": "code",
   "execution_count": 25,
   "metadata": {},
   "outputs": [
    {
     "name": "stdout",
     "output_type": "stream",
     "text": [
      "True (algebraic) sum = 20000\n",
      "Naïve sum = 0.0\n",
      "Kahan sum = 0.0\n",
      "Quadruple-precision (float128) sum = 0.0\n",
      "math.fsum = 20000.0\n"
     ]
    }
   ],
   "source": [
    "a = [1, 1e100, 1, -1e100] * 10000\n",
    "\n",
    "print('True (algebraic) sum = 20000')\n",
    "print('Naïve sum = {}'.format(sum(a)))\n",
    "print('Kahan sum = {}'.format(kahan(a)))\n",
    "print('Quadruple-precision (float128) sum = {}'.format(np.array(a, dtype=np.float128).sum()))\n",
    "print('math.fsum = {}'.format(math.fsum(a)))"
   ]
  },
  {
   "cell_type": "markdown",
   "metadata": {},
   "source": [
    "As we can see, even Kahan algorithm and [128-bit floating point values](https://en.wikipedia.org/wiki/Quadruple-precision_floating-point_format) are not of use here.\n",
    "But more elaborate algorithm used in [`math.fsum`](https://docs.python.org/3/library/math.html#math.fsum) helps.\n",
    "\n",
    "You can also take a look at [Neumaier algorithm](https://en.wikipedia.org/wiki/Kahan_summation_algorithm#Further_enhancements), which is a modification of Kahan algorithm that can deal with such issues."
   ]
  }
 ],
 "metadata": {
  "kernelspec": {
   "display_name": "Python 3",
   "language": "python",
   "name": "python3"
  },
  "language_info": {
   "codemirror_mode": {
    "name": "ipython",
    "version": 3
   },
   "file_extension": ".py",
   "mimetype": "text/x-python",
   "name": "python",
   "nbconvert_exporter": "python",
   "pygments_lexer": "ipython3",
   "version": "3.5.2"
  }
 },
 "nbformat": 4,
 "nbformat_minor": 2
}
