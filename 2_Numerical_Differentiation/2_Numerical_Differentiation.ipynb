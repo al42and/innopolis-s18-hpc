{
 "cells": [
  {
   "cell_type": "markdown",
   "metadata": {},
   "source": [
    "# Lab 2. Numerical differentiation"
   ]
  },
  {
   "cell_type": "markdown",
   "metadata": {},
   "source": [
    "High Performance Computing, Innopolis University, Spring 2018"
   ]
  },
  {
   "cell_type": "code",
   "execution_count": 1,
   "metadata": {},
   "outputs": [],
   "source": [
    "# Import common modules and set up cute plots\n",
    "import math\n",
    "import numpy as np\n",
    "from typing import List, Iterable\n",
    "from IPython.core.display import HTML, display\n",
    "\n",
    "import matplotlib.pyplot as plt\n",
    "%matplotlib inline\n",
    "plt.rcParams['figure.figsize'] = (10,6)"
   ]
  },
  {
   "cell_type": "markdown",
   "metadata": {},
   "source": [
    "## Optimal step size"
   ]
  },
  {
   "cell_type": "markdown",
   "metadata": {},
   "source": [
    "Let's recall some theory.\n",
    "\n",
    "If we compute f' as (f(x+h)-f(x))/h, then we have two sources of error:\n",
    "- Round-off error: `2**(2-t) * abs(f(x))/h`\n",
    "- Approximation error (also called truncation error): `M2 * h/2`\n",
    "\n",
    "Here, t is the length of the mantissa (in bits), M2 is the maximum of the second derivative of f, and h is the differentiation step.\n",
    "\n",
    "Let's check this theory with the snippet below:"
   ]
  },
  {
   "cell_type": "code",
   "execution_count": 2,
   "metadata": {},
   "outputs": [
    {
     "data": {
      "image/png": "[encoded data removed]",
      "text/plain": [
       "<matplotlib.figure.Figure at 0x7f228293ad68>"
      ]
     },
     "metadata": {},
     "output_type": "display_data"
    }
   ],
   "source": [
    "f = lambda x: np.sin(x)**2  # The function itself\n",
    "df = lambda x: np.sin(2*x)  # It's first (analytical) derivative\n",
    "d2f = lambda x: 2*np.cos(x)  # Second (analytical) derivative\n",
    "dtype, m_len = np.float32, 23  # Floating-point type used, and corresponding mantissa length in bits\n",
    "\n",
    "hs = np.linspace(1e-6,1e-3,10000, dtype=dtype)  # Different step sizes to test\n",
    "x = dtype(np.pi/12)  # Point at which we compute the derivative\n",
    "\n",
    "# Round-off error\n",
    "err_r = 2**(2-m_len) * np.abs(f(x)) / hs\n",
    "# Approximation error\n",
    "err_a = np.abs(d2f(x)) * hs / 2  # We assume that change in f'' is insignificant on [x, x+h]\n",
    "# Actual error\n",
    "err_e = (f(x+hs)-f(x))/hs - df(x)\n",
    "\n",
    "h_opt = np.sqrt(2**(3-m_len) * np.abs(f(x) / d2f(x)))\n",
    "\n",
    "plt.plot(hs, err_e, label='Actual')\n",
    "plt.plot(hs, err_a, label='Expected, approximation', lw=2)\n",
    "plt.plot(hs, err_r, label='Expected, round-off', lw=2)\n",
    "plt.plot(hs, err_a+err_r, '--', label='Expected, total')\n",
    "plt.axvline(h_opt, ls=':', color='k')\n",
    "plt.legend()\n",
    "plt.xlabel('Step size, h')\n",
    "plt.ylabel('Error')\n",
    "plt.semilogy()\n",
    "plt.show()"
   ]
  },
  {
   "cell_type": "markdown",
   "metadata": {},
   "source": [
    "We see that total expected error (red, dashed) pretty accurately estimates the actual error (blue). We can also see which component — approximation (orange) or round-off (green) — contributes mainly for each step size. Please, keep in mind that Y-axis is logarithmic.\n",
    "\n",
    "The black dashed vertical line indicate computed optimal value of step size.\n",
    "\n",
    "If you experiment with different points, you can see that the estimation is not always working very good.\n",
    "For example, the error is overestimated significantly at x=π/3. But for most points, the actual and expected errors are pretty close.\n",
    "\n",
    "We can also see that actual error varies wildly for small step sizes when it is determined by round-off error. This is to be expected: the round-off error is very stochastic in nature, and errors on two consecutive steps can either cancel or amplify each other. When doing the theoretical analysis, we always assume worst case."
   ]
  },
  {
   "cell_type": "markdown",
   "metadata": {},
   "source": [
    "## Symbolic and automatic differentiation"
   ]
  },
  {
   "cell_type": "markdown",
   "metadata": {},
   "source": [
    "Above we dealt with numerical differentiation, _i.e._, using finite differences methods to approximately find \n",
    "the value of the derivative.\n",
    "\n",
    "But computers can do more. Symbolic differentiation allows one to find the value of the derivative by automatically doing the same operations you did in Calculus course, like looking up the derivatives of fundamental functions, applying chain rule etc.\n",
    "\n",
    "_Note_: [Symbolic](https://en.wikipedia.org/wiki/Computer_algebra) and [automatic](https://en.wikipedia.org/wiki/Automatic_differentiation) differentiations are [fundamentally different](https://alexey.radul.name/ideas/2013/introduction-to-automatic-differentiation/#ad-is-not-symbolic-differentiation), but I don't distinguish them here. Tensorflow, used below, employs automatic differentiation."
   ]
  },
  {
   "cell_type": "markdown",
   "metadata": {},
   "source": [
    "This Tensorflow example that calculates the derivative of `sin(x)**2` for x=π/17.\n",
    "We also compute the value using manually-derived derivative, and using double-precision numerical differentiation."
   ]
  },
  {
   "cell_type": "code",
   "execution_count": 3,
   "metadata": {},
   "outputs": [
    {
     "name": "stdout",
     "output_type": "stream",
     "text": [
      "Analytical: 0.36124166618715292\n",
      "Tensorflow: 0.36124166618715298\n",
      "Numerical : 0.36124166985988576\n"
     ]
    }
   ],
   "source": [
    "x0 = np.pi / 17  # The point\n",
    "\n",
    "print('Analytical: {:.17f}'.format(np.sin(2*x0)))\n",
    "\n",
    "import tensorflow as tf\n",
    "tf.reset_default_graph()\n",
    "x = tf.placeholder(tf.float64)\n",
    "y = tf.square(tf.sin(x))\n",
    "dy = tf.gradients([y], [x])[0]\n",
    "with tf.Session() as sess:\n",
    "    print('Tensorflow: {:.17f}'.format(sess.run(dy, feed_dict={x: [x0]})[0]))\n",
    "\n",
    "# Finding the optimal step for numerical differentiation\n",
    "h_opt = np.sqrt(2**(3-52) * np.abs(np.sin(x0)**2 / (2*np.cos(x0)))) \n",
    "print('Numerical : {:.17f}'.format((np.sin(x0+h_opt)**2 - np.sin(x0)**2)/h_opt))"
   ]
  },
  {
   "cell_type": "code",
   "execution_count": null,
   "metadata": {},
   "outputs": [],
   "source": []
  }
 ],
 "metadata": {
  "kernelspec": {
   "display_name": "Python 3",
   "language": "python",
   "name": "python3"
  },
  "language_info": {
   "codemirror_mode": {
    "name": "ipython",
    "version": 3
   },
   "file_extension": ".py",
   "mimetype": "text/x-python",
   "name": "python",
   "nbconvert_exporter": "python",
   "pygments_lexer": "ipython3",
   "version": "3.5.2"
  }
 },
 "nbformat": 4,
 "nbformat_minor": 2
}
